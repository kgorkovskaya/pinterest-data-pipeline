{
 "cells": [
  {
   "cell_type": "code",
   "execution_count": 0,
   "metadata": {
    "application/vnd.databricks.v1+cell": {
     "cellMetadata": {},
     "inputWidgets": {},
     "nuid": "8c9478fe-54c8-4485-83eb-a65fd67296ca",
     "showTitle": false,
     "title": ""
    }
   },
   "outputs": [],
   "source": [
    "'''\n",
    "AiCore Pinterest Data Pipeline Project\n",
    "Define schemas for imports.\n",
    "This code is intended to run in a Databricks notebook.\n",
    "Author: Kristina Gorkovskaya\n",
    "Date: 2023-11-28\n",
    "'''\n",
    "\n",
    "from pyspark.sql.types import *\n",
    "\n",
    "schemas = {\n",
    "'pin': StructType([\n",
    "    StructField('category', StringType(), True),\n",
    "    StructField('description', StringType(), True),\n",
    "    StructField('downloaded', StringType(), True),\n",
    "    StructField('follower_count', StringType(), True),\n",
    "    StructField('image_src', StringType(), True),\n",
    "    StructField('index', StringType(), True),\n",
    "    StructField('is_image_or_video', StringType(), True),\n",
    "    StructField('poster_name', StringType(), True),\n",
    "    StructField('save_location', StringType(), True),\n",
    "    StructField('tag_list', StringType(), True),\n",
    "    StructField('title', StringType(), True),\n",
    "    StructField('unique_id', StringType(), True)\n",
    "  ]),\n",
    "  'geo': StructType([\n",
    "    StructField('country', StringType(), True), \n",
    "    StructField('ind', StringType(), True), \n",
    "    StructField('latitude', DoubleType(), True), \n",
    "    StructField('longitude', DoubleType(), True), \n",
    "    StructField('timestamp', StringType(), True)\n",
    "  ]),\n",
    "  'user': StructType([\n",
    "    StructField('age', StringType(), True), \n",
    "    StructField('date_joined', StringType(), True), \n",
    "    StructField('first_name', StringType(), True), \n",
    "    StructField('ind', StringType(), True), \n",
    "    StructField('last_name', StringType(), True)\n",
    "  ])\n",
    "}"
   ]
  }
 ],
 "metadata": {
  "application/vnd.databricks.v1+notebook": {
   "dashboards": [],
   "language": "python",
   "notebookMetadata": {
    "pythonIndentUnit": 4
   },
   "notebookName": "schemas",
   "widgets": {}
  }
 },
 "nbformat": 4,
 "nbformat_minor": 0
}
