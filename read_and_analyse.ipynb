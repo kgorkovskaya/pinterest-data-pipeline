{
 "cells": [
  {
   "cell_type": "code",
   "execution_count": 0,
   "metadata": {
    "application/vnd.databricks.v1+cell": {
     "cellMetadata": {
      "byteLimit": 2048000,
      "rowLimit": 10000
     },
     "inputWidgets": {},
     "nuid": "09bf8e23-81f3-4b91-98d5-2e3a9f7e7bfd",
     "showTitle": false,
     "title": ""
    }
   },
   "outputs": [
    {
     "output_type": "display_data",
     "data": {
      "text/html": [
       "<style scoped>\n",
       "  .ansiout {\n",
       "    display: block;\n",
       "    unicode-bidi: embed;\n",
       "    white-space: pre-wrap;\n",
       "    word-wrap: break-word;\n",
       "    word-break: break-all;\n",
       "    font-family: \"Menlo\", \"Monaco\", \"Consolas\", \"Ubuntu Mono\", \"Source Code Pro\", monospace;\n",
       "    font-size: 13px;\n",
       "    color: #555;\n",
       "    margin-left: 4px;\n",
       "    line-height: 19px;\n",
       "  }\n",
       "</style>\n",
       "<div class=\"ansiout\"></div>"
      ]
     },
     "metadata": {
      "application/vnd.databricks.v1+output": {
       "addedWidgets": {},
       "arguments": {},
       "data": "<div class=\"ansiout\"></div>",
       "datasetInfos": [],
       "metadata": {},
       "removedWidgets": [],
       "type": "html"
      }
     },
     "output_type": "display_data"
    }
   ],
   "source": [
    "'''\n",
    "AiCore Pinterest Data Pipeline Project\n",
    "Load Pinterest data from S3; clean and analyse the data with PySpark.\n",
    "This code is intended to run in a Databricks notebook.\n",
    "Author: Kristina Gorkovskaya\n",
    "Date: 2023-11-03\n",
    "'''\n",
    "\n",
    "import pandas as pd\n",
    "import pyspark\n",
    "import pyspark.sql.functions as F\n",
    "from pyspark.sql.types import ArrayType, DoubleType, IntegerType, StringType\n",
    "from pyspark.sql.window import Window\n",
    "\n",
    "pd.set_option('display.max_columns', None)\n",
    "pd.set_option('display.max_rows', 100)\n",
    "\n",
    "user_id = '0ec858bf1407'\n",
    "mount_name = 'pinterest'\n",
    "\n",
    "def load_data(topic_suffix: str, user_id: str = user_id, mount_name: str = mount_name) -> pyspark.sql.dataframe.DataFrame:\n",
    "  '''Load JSON data from S3 into a PySpark DataFrame; print the schema to view column names and data types'''\n",
    "  print(f'Loading topic {user_id}.{topic_suffix}...', end=' ')\n",
    "  file_location = f'/mnt/{mount_name}/topics/{user_id}.{topic_suffix}/partition=0/*.json'\n",
    "  file_type = 'json'\n",
    "  df = spark.read.format(file_type).option('inferSchema', True).load(file_location)\n",
    "  \n",
    "  print(f'{df.count():,} records loaded.')\n",
    "  df.printSchema()\n",
    "  return df\n",
    "\n",
    "def show_non_numeric_patterns(df: pyspark.sql.dataframe.DataFrame, col: str) -> pyspark.sql.dataframe.DataFrame:\n",
    "  '''Look for non-numeric patterns in a field that is expected to be numeric.'''\n",
    "  new_col = col + '_pattern'\n",
    "  df = df.withColumn(new_col, F.regexp_replace(col, '[0-9]+', '9'))\n",
    "  df.groupBy(new_col).count().show()\n",
    "  return df\n"
   ]
  },
  {
   "cell_type": "code",
   "execution_count": 0,
   "metadata": {
    "application/vnd.databricks.v1+cell": {
     "cellMetadata": {
      "byteLimit": 2048000,
      "rowLimit": 10000
     },
     "inputWidgets": {},
     "nuid": "40ca8f37-6047-4983-a6b4-2a325fa1c6c8",
     "showTitle": false,
     "title": ""
    }
   },
   "outputs": [
    {
     "output_type": "display_data",
     "data": {
      "text/html": [
       "<style scoped>\n",
       "  .ansiout {\n",
       "    display: block;\n",
       "    unicode-bidi: embed;\n",
       "    white-space: pre-wrap;\n",
       "    word-wrap: break-word;\n",
       "    word-break: break-all;\n",
       "    font-family: \"Menlo\", \"Monaco\", \"Consolas\", \"Ubuntu Mono\", \"Source Code Pro\", monospace;\n",
       "    font-size: 13px;\n",
       "    color: #555;\n",
       "    margin-left: 4px;\n",
       "    line-height: 19px;\n",
       "  }\n",
       "</style>\n",
       "<div class=\"ansiout\">Loading topic 0ec858bf1407.pin... 1,962 records loaded.\n",
       "root\n",
       "-- category: string (nullable = true)\n",
       "-- description: string (nullable = true)\n",
       "-- downloaded: long (nullable = true)\n",
       "-- follower_count: string (nullable = true)\n",
       "-- image_src: string (nullable = true)\n",
       "-- index: long (nullable = true)\n",
       "-- is_image_or_video: string (nullable = true)\n",
       "-- poster_name: string (nullable = true)\n",
       "-- save_location: string (nullable = true)\n",
       "-- tag_list: string (nullable = true)\n",
       "-- title: string (nullable = true)\n",
       "-- unique_id: string (nullable = true)\n",
       "\n",
       "</div>"
      ]
     },
     "metadata": {
      "application/vnd.databricks.v1+output": {
       "addedWidgets": {},
       "arguments": {},
       "data": "<div class=\"ansiout\">Loading topic 0ec858bf1407.pin... 1,962 records loaded.\nroot\n |-- category: string (nullable = true)\n |-- description: string (nullable = true)\n |-- downloaded: long (nullable = true)\n |-- follower_count: string (nullable = true)\n |-- image_src: string (nullable = true)\n |-- index: long (nullable = true)\n |-- is_image_or_video: string (nullable = true)\n |-- poster_name: string (nullable = true)\n |-- save_location: string (nullable = true)\n |-- tag_list: string (nullable = true)\n |-- title: string (nullable = true)\n |-- unique_id: string (nullable = true)\n\n</div>",
       "datasetInfos": [],
       "metadata": {},
       "removedWidgets": [],
       "type": "html"
      }
     },
     "output_type": "display_data"
    }
   ],
   "source": [
    "#############################################################################################################\n",
    "# TASK 1: Clean the df_pin DataFrame\n",
    "#############################################################################################################\n",
    "# Load data from the pins topic into df_pin.\n",
    "df_pin = load_data('pin')"
   ]
  },
  {
   "cell_type": "code",
   "execution_count": 0,
   "metadata": {
    "application/vnd.databricks.v1+cell": {
     "cellMetadata": {
      "byteLimit": 2048000,
      "rowLimit": 10000
     },
     "inputWidgets": {},
     "nuid": "fc5cf203-7ef6-42ba-a4c7-e4774fcdcc16",
     "showTitle": false,
     "title": ""
    }
   },
   "outputs": [
    {
     "output_type": "display_data",
     "data": {
      "text/html": [
       "<style scoped>\n",
       "  .ansiout {\n",
       "    display: block;\n",
       "    unicode-bidi: embed;\n",
       "    white-space: pre-wrap;\n",
       "    word-wrap: break-word;\n",
       "    word-break: break-all;\n",
       "    font-family: \"Menlo\", \"Monaco\", \"Consolas\", \"Ubuntu Mono\", \"Source Code Pro\", monospace;\n",
       "    font-size: 13px;\n",
       "    color: #555;\n",
       "    margin-left: 4px;\n",
       "    line-height: 19px;\n",
       "  }\n",
       "</style>\n",
       "<div class=\"ansiout\">{&#39;category&#39;: 0, &#39;description&#39;: 0, &#39;downloaded&#39;: 0, &#39;follower_count&#39;: 0, &#39;image_src&#39;: 0, &#39;index&#39;: 0, &#39;is_image_or_video&#39;: 0, &#39;poster_name&#39;: 0, &#39;save_location&#39;: 0, &#39;tag_list&#39;: 0, &#39;title&#39;: 1, &#39;unique_id&#39;: 0}\n",
       "{&#39;category&#39;: 0, &#39;description&#39;: 0, &#39;downloaded&#39;: 0, &#39;follower_count&#39;: 0, &#39;image_src&#39;: 0, &#39;index&#39;: 0, &#39;is_image_or_video&#39;: 0, &#39;poster_name&#39;: 0, &#39;save_location&#39;: 0, &#39;tag_list&#39;: 0, &#39;title&#39;: 1, &#39;unique_id&#39;: 0}\n",
       "</div>"
      ]
     },
     "metadata": {
      "application/vnd.databricks.v1+output": {
       "addedWidgets": {},
       "arguments": {},
       "data": "<div class=\"ansiout\">{&#39;category&#39;: 0, &#39;description&#39;: 0, &#39;downloaded&#39;: 0, &#39;follower_count&#39;: 0, &#39;image_src&#39;: 0, &#39;index&#39;: 0, &#39;is_image_or_video&#39;: 0, &#39;poster_name&#39;: 0, &#39;save_location&#39;: 0, &#39;tag_list&#39;: 0, &#39;title&#39;: 1, &#39;unique_id&#39;: 0}\n{&#39;category&#39;: 0, &#39;description&#39;: 0, &#39;downloaded&#39;: 0, &#39;follower_count&#39;: 0, &#39;image_src&#39;: 0, &#39;index&#39;: 0, &#39;is_image_or_video&#39;: 0, &#39;poster_name&#39;: 0, &#39;save_location&#39;: 0, &#39;tag_list&#39;: 0, &#39;title&#39;: 1, &#39;unique_id&#39;: 0}\n</div>",
       "datasetInfos": [],
       "metadata": {},
       "removedWidgets": [],
       "type": "html"
      }
     },
     "output_type": "display_data"
    }
   ],
   "source": [
    "# (1) Replace empty entries and entries with no relevant data in each column with Nones\n",
    "# Start by counting nulls\n",
    "nulls = {col: df_pin.filter((df_pin[col].isNull()) | F.isnan(col)).count() for col in df_pin.columns}\n",
    "print(nulls)\n",
    "\n",
    "# Replace nans and empty strings with None\n",
    "df_pin = df_pin.replace(float('nan'), None).replace(\"\", None)\n",
    "\n",
    "# Count nulls again\n",
    "nulls = {col: df_pin.filter((df_pin[col].isNull()) | F.isnan(col)).count() for col in df_pin.columns}\n",
    "print(nulls)"
   ]
  },
  {
   "cell_type": "code",
   "execution_count": 0,
   "metadata": {
    "application/vnd.databricks.v1+cell": {
     "cellMetadata": {
      "byteLimit": 2048000,
      "rowLimit": 10000
     },
     "inputWidgets": {},
     "nuid": "aaea35bb-7ce1-4729-8109-1aee811879ac",
     "showTitle": false,
     "title": ""
    }
   },
   "outputs": [
    {
     "output_type": "display_data",
     "data": {
      "text/html": [
       "<style scoped>\n",
       "  .ansiout {\n",
       "    display: block;\n",
       "    unicode-bidi: embed;\n",
       "    white-space: pre-wrap;\n",
       "    word-wrap: break-word;\n",
       "    word-break: break-all;\n",
       "    font-family: \"Menlo\", \"Monaco\", \"Consolas\", \"Ubuntu Mono\", \"Source Code Pro\", monospace;\n",
       "    font-size: 13px;\n",
       "    color: #555;\n",
       "    margin-left: 4px;\n",
       "    line-height: 19px;\n",
       "  }\n",
       "</style>\n",
       "<div class=\"ansiout\">+----------------------+-----+\n",
       "follower_count_pattern|count|\n",
       "+----------------------+-----+\n",
       "                    9k| 1454|\n",
       "                     9|  342|\n",
       "                    9M|  136|\n",
       "       User Info Error|   30|\n",
       "+----------------------+-----+\n",
       "\n",
       "</div>"
      ]
     },
     "metadata": {
      "application/vnd.databricks.v1+output": {
       "addedWidgets": {},
       "arguments": {},
       "data": "<div class=\"ansiout\">+----------------------+-----+\n|follower_count_pattern|count|\n+----------------------+-----+\n|                    9k| 1454|\n|                     9|  342|\n|                    9M|  136|\n|       User Info Error|   30|\n+----------------------+-----+\n\n</div>",
       "datasetInfos": [],
       "metadata": {},
       "removedWidgets": [],
       "type": "html"
      }
     },
     "output_type": "display_data"
    }
   ],
   "source": [
    "# (2) Perform the necessary transformations on the follower_count to ensure every entry is a number. \n",
    "# First look for patterns in the data - what non-numeric characters are present?\n",
    "df_pin = show_non_numeric_patterns(df_pin, 'follower_count')"
   ]
  },
  {
   "cell_type": "code",
   "execution_count": 0,
   "metadata": {
    "application/vnd.databricks.v1+cell": {
     "cellMetadata": {
      "byteLimit": 2048000,
      "rowLimit": 10000
     },
     "inputWidgets": {},
     "nuid": "7645e17e-f8f6-40f0-9e71-456a4c1622c9",
     "showTitle": false,
     "title": ""
    }
   },
   "outputs": [
    {
     "output_type": "display_data",
     "data": {
      "text/html": [
       "<style scoped>\n",
       "  .ansiout {\n",
       "    display: block;\n",
       "    unicode-bidi: embed;\n",
       "    white-space: pre-wrap;\n",
       "    word-wrap: break-word;\n",
       "    word-break: break-all;\n",
       "    font-family: \"Menlo\", \"Monaco\", \"Consolas\", \"Ubuntu Mono\", \"Source Code Pro\", monospace;\n",
       "    font-size: 13px;\n",
       "    color: #555;\n",
       "    margin-left: 4px;\n",
       "    line-height: 19px;\n",
       "  }\n",
       "</style>\n",
       "<div class=\"ansiout\">+----------------------+-------------------------+-----+\n",
       "follower_count_pattern|follower_count_multiplier|count|\n",
       "+----------------------+-------------------------+-----+\n",
       "                    9k|                     1000| 1454|\n",
       "                    9M|                  1000000|  136|\n",
       "                     9|                        1|  342|\n",
       "       User Info Error|                        1|   30|\n",
       "+----------------------+-------------------------+-----+\n",
       "\n",
       "</div>"
      ]
     },
     "metadata": {
      "application/vnd.databricks.v1+output": {
       "addedWidgets": {},
       "arguments": {},
       "data": "<div class=\"ansiout\">+----------------------+-------------------------+-----+\n|follower_count_pattern|follower_count_multiplier|count|\n+----------------------+-------------------------+-----+\n|                    9k|                     1000| 1454|\n|                    9M|                  1000000|  136|\n|                     9|                        1|  342|\n|       User Info Error|                        1|   30|\n+----------------------+-------------------------+-----+\n\n</div>",
       "datasetInfos": [],
       "metadata": {},
       "removedWidgets": [],
       "type": "html"
      }
     },
     "output_type": "display_data"
    }
   ],
   "source": [
    "# Create a multiplier column\n",
    "# Assumptions: a suffix of \"k\" in follower_count means a multiplier of 1,000; a suffix of \"M\" means 10^6\n",
    "df_pin = df_pin.withColumn('follower_count_multiplier', \n",
    "                           F.when(df_pin.follower_count.like('%k'), 1000).\n",
    "                           when(df_pin.follower_count.like('%M'), 1000000).\n",
    "                           otherwise(1))\n",
    "\n",
    "# Check that multiplier has been created correctly\n",
    "df_pin.groupBy('follower_count_pattern', 'follower_count_multiplier').count().show()"
   ]
  },
  {
   "cell_type": "code",
   "execution_count": 0,
   "metadata": {
    "application/vnd.databricks.v1+cell": {
     "cellMetadata": {
      "byteLimit": 2048000,
      "rowLimit": 10000
     },
     "inputWidgets": {},
     "nuid": "d43e9e0b-0d77-46b0-8469-925e5b17cf2e",
     "showTitle": false,
     "title": ""
    }
   },
   "outputs": [
    {
     "output_type": "display_data",
     "data": {
      "text/html": [
       "<style scoped>\n",
       "  .ansiout {\n",
       "    display: block;\n",
       "    unicode-bidi: embed;\n",
       "    white-space: pre-wrap;\n",
       "    word-wrap: break-word;\n",
       "    word-break: break-all;\n",
       "    font-family: \"Menlo\", \"Monaco\", \"Consolas\", \"Ubuntu Mono\", \"Source Code Pro\", monospace;\n",
       "    font-size: 13px;\n",
       "    color: #555;\n",
       "    margin-left: 4px;\n",
       "    line-height: 19px;\n",
       "  }\n",
       "</style>\n",
       "<div class=\"ansiout\">+---------------+----------------------+\n",
       "follower_count |follower_count_numeric|\n",
       "+---------------+----------------------+\n",
       "User Info Error|null                  |\n",
       "0              |0                     |\n",
       "150            |150                   |\n",
       "159            |159                   |\n",
       "202            |202                   |\n",
       "443            |443                   |\n",
       "19k            |19000                 |\n",
       "20k            |20000                 |\n",
       "472k           |472000                |\n",
       "502k           |502000                |\n",
       "671k           |671000                |\n",
       "1M             |1000000               |\n",
       "2M             |2000000               |\n",
       "4M             |4000000               |\n",
       "8M             |8000000               |\n",
       "+---------------+----------------------+\n",
       "\n",
       "</div>"
      ]
     },
     "metadata": {
      "application/vnd.databricks.v1+output": {
       "addedWidgets": {},
       "arguments": {},
       "data": "<div class=\"ansiout\">+---------------+----------------------+\n|follower_count |follower_count_numeric|\n+---------------+----------------------+\n|User Info Error|null                  |\n|0              |0                     |\n|150            |150                   |\n|159            |159                   |\n|202            |202                   |\n|443            |443                   |\n|19k            |19000                 |\n|20k            |20000                 |\n|472k           |472000                |\n|502k           |502000                |\n|671k           |671000                |\n|1M             |1000000               |\n|2M             |2000000               |\n|4M             |4000000               |\n|8M             |8000000               |\n+---------------+----------------------+\n\n</div>",
       "datasetInfos": [],
       "metadata": {},
       "removedWidgets": [],
       "type": "html"
      }
     },
     "output_type": "display_data"
    }
   ],
   "source": [
    "# Parse numeric data from follower_count and apply multiplier to the parsed values\n",
    "df_pin = df_pin.withColumn('follower_count_numeric',\n",
    "                           F.when(df_pin.follower_count == 'User Info Error', None).\n",
    "                           otherwise(F.regexp_replace('follower_count', '[^0-9]+', '')).\n",
    "                           cast(IntegerType()) * df_pin.follower_count_multiplier)\n",
    "\n",
    "# Show a random sample of 5 rows rows for each pattern to make sure the calculations are correct\n",
    "df_pin.createOrReplaceTempView('df_pin')\n",
    "sql = \"\"\"\n",
    "select distinct \n",
    "    follower_count, \n",
    "    follower_count_numeric \n",
    "from (\n",
    "    select \n",
    "        follower_count, \n",
    "        follower_count_numeric, \n",
    "        row_number() over (partition by follower_count_pattern order by random()) as rn\n",
    "    from df_pin \n",
    ")\n",
    "where rn <= 5\n",
    "order by follower_count_numeric\n",
    "\"\"\"\n",
    "spark.sql(sql).show(truncate=False)"
   ]
  },
  {
   "cell_type": "code",
   "execution_count": 0,
   "metadata": {
    "application/vnd.databricks.v1+cell": {
     "cellMetadata": {
      "byteLimit": 2048000,
      "rowLimit": 10000
     },
     "inputWidgets": {},
     "nuid": "7526d675-5572-4a81-9b1f-0cef1044d802",
     "showTitle": false,
     "title": ""
    }
   },
   "outputs": [
    {
     "output_type": "display_data",
     "data": {
      "text/html": [
       "<style scoped>\n",
       "  .ansiout {\n",
       "    display: block;\n",
       "    unicode-bidi: embed;\n",
       "    white-space: pre-wrap;\n",
       "    word-wrap: break-word;\n",
       "    word-break: break-all;\n",
       "    font-family: \"Menlo\", \"Monaco\", \"Consolas\", \"Ubuntu Mono\", \"Source Code Pro\", monospace;\n",
       "    font-size: 13px;\n",
       "    color: #555;\n",
       "    margin-left: 4px;\n",
       "    line-height: 19px;\n",
       "  }\n",
       "</style>\n",
       "<div class=\"ansiout\">root\n",
       "-- category: string (nullable = true)\n",
       "-- description: string (nullable = true)\n",
       "-- downloaded: long (nullable = true)\n",
       "-- follower_count: integer (nullable = true)\n",
       "-- image_src: string (nullable = true)\n",
       "-- index: long (nullable = true)\n",
       "-- is_image_or_video: string (nullable = true)\n",
       "-- poster_name: string (nullable = true)\n",
       "-- save_location: string (nullable = true)\n",
       "-- tag_list: string (nullable = true)\n",
       "-- title: string (nullable = true)\n",
       "-- unique_id: string (nullable = true)\n",
       "\n",
       "</div>"
      ]
     },
     "metadata": {
      "application/vnd.databricks.v1+output": {
       "addedWidgets": {},
       "arguments": {},
       "data": "<div class=\"ansiout\">root\n |-- category: string (nullable = true)\n |-- description: string (nullable = true)\n |-- downloaded: long (nullable = true)\n |-- follower_count: integer (nullable = true)\n |-- image_src: string (nullable = true)\n |-- index: long (nullable = true)\n |-- is_image_or_video: string (nullable = true)\n |-- poster_name: string (nullable = true)\n |-- save_location: string (nullable = true)\n |-- tag_list: string (nullable = true)\n |-- title: string (nullable = true)\n |-- unique_id: string (nullable = true)\n\n</div>",
       "datasetInfos": [],
       "metadata": {},
       "removedWidgets": [],
       "type": "html"
      }
     },
     "output_type": "display_data"
    }
   ],
   "source": [
    "# Remove intermediate columns\n",
    "df_pin = df_pin.withColumn('follower_count', df_pin.follower_count_numeric)\n",
    "df_pin = df_pin.drop('follower_count_numeric', 'follower_count_pattern', 'follower_count_multiplier')\n",
    "df_pin.printSchema()"
   ]
  },
  {
   "cell_type": "code",
   "execution_count": 0,
   "metadata": {
    "application/vnd.databricks.v1+cell": {
     "cellMetadata": {
      "byteLimit": 2048000,
      "rowLimit": 10000
     },
     "inputWidgets": {},
     "nuid": "b483719d-7800-4d3f-977f-a90e4b20a011",
     "showTitle": false,
     "title": ""
    }
   },
   "outputs": [
    {
     "output_type": "display_data",
     "data": {
      "text/html": [
       "<style scoped>\n",
       "  .ansiout {\n",
       "    display: block;\n",
       "    unicode-bidi: embed;\n",
       "    white-space: pre-wrap;\n",
       "    word-wrap: break-word;\n",
       "    word-break: break-all;\n",
       "    font-family: \"Menlo\", \"Monaco\", \"Consolas\", \"Ubuntu Mono\", \"Source Code Pro\", monospace;\n",
       "    font-size: 13px;\n",
       "    color: #555;\n",
       "    margin-left: 4px;\n",
       "    line-height: 19px;\n",
       "  }\n",
       "</style>\n",
       "<div class=\"ansiout\">+--------------+--------------------+----------+--------------+--------------------+-----+-----------------+--------------------+--------------------+--------------------+---------------------+--------------------+\n",
       "      category|         description|downloaded|follower_count|           image_src|index|is_image_or_video|         poster_name|       save_location|            tag_list|                title|           unique_id|\n",
       "+--------------+--------------------+----------+--------------+--------------------+-----+-----------------+--------------------+--------------------+--------------------+---------------------+--------------------+\n",
       "event-planning|Το όνομα που επέλ...|         1|             4|https://i.pinimg....| 4387|            image|Manosbojana Katsa...|Local save in /da...|Diy Flowers,Flowe...| Βάπτιση: H παραμυ...|ae5e7377-f1bd-4ac...|\n",
       "    home-decor|Традиционные швед...|         1|        136000|https://i.pinimg....| 6717|            image|PUFIK Interiors &amp;...|Local save in /da...|Scandinavian Cott...|〚 Уютные шведские...|bc5ab9ee-505e-44f...|\n",
       "    home-decor|Традиционные швед...|         1|        136000|https://i.pinimg....| 6717|            image|PUFIK Interiors &amp;...|Local save in /da...|Scandinavian Cott...|〚 Уютные шведские...|bc5ab9ee-505e-44f...|\n",
       "event-planning|15.1k Likes, 83 C...|         1|           311|https://i.pinimg....| 4858|            image|      Marie Bradford|Local save in /da...|Diy Birthday Deco...| THE EVENT COLLECT...|58101415-9273-431...|\n",
       "event-planning|Wow your guests! ...|         1|          1000|https://i.pinimg....| 4608|            image|Iconica Design | ...|Local save in /da...|Christmas Party B...| Virtual Baby Show...|d234e56f-5b18-4ef...|\n",
       "    home-decor|6,636 Likes, 141 ...|         1|           394|https://i.pinimg....| 6633|            image|        Sarah Martin|Local save in /da...|Diy Kitchen Cabin...| The Cottage Journ...|d136f6bc-840d-44f...|\n",
       "     christmas|Features: Materia...|         1|          5000|https://i.pinimg....| 1706|            image|            Wear24-7|Local save in /da...|Merry Christmas T...| Standing Figurine...|b5c8a1b5-9e90-452...|\n",
       "     christmas|Features: Materia...|         1|          5000|https://i.pinimg....| 1706|            image|            Wear24-7|Local save in /da...|Merry Christmas T...| Standing Figurine...|b5c8a1b5-9e90-452...|\n",
       "     christmas|Features: Materia...|         1|          5000|https://i.pinimg....| 1706|            image|            Wear24-7|Local save in /da...|Merry Christmas T...| Standing Figurine...|b5c8a1b5-9e90-452...|\n",
       "     christmas|❤️ ❤️ MERRY CHRIS...|         1|           784|https://i.pinimg....| 1676|            image|              paupoo|Local save in /da...|Christmas Hanging...| PAUPOO™ Pre-lit A...|3ed92c2d-9cca-4cc...|\n",
       "+--------------+--------------------+----------+--------------+--------------------+-----+-----------------+--------------------+--------------------+--------------------+---------------------+--------------------+\n",
       "only showing top 10 rows\n",
       "\n",
       "</div>"
      ]
     },
     "metadata": {
      "application/vnd.databricks.v1+output": {
       "addedWidgets": {},
       "arguments": {},
       "data": "<div class=\"ansiout\">+--------------+--------------------+----------+--------------+--------------------+-----+-----------------+--------------------+--------------------+--------------------+---------------------+--------------------+\n|      category|         description|downloaded|follower_count|           image_src|index|is_image_or_video|         poster_name|       save_location|            tag_list|                title|           unique_id|\n+--------------+--------------------+----------+--------------+--------------------+-----+-----------------+--------------------+--------------------+--------------------+---------------------+--------------------+\n|event-planning|Το όνομα που επέλ...|         1|             4|https://i.pinimg....| 4387|            image|Manosbojana Katsa...|Local save in /da...|Diy Flowers,Flowe...| Βάπτιση: H παραμυ...|ae5e7377-f1bd-4ac...|\n|    home-decor|Традиционные швед...|         1|        136000|https://i.pinimg....| 6717|            image|PUFIK Interiors &amp;...|Local save in /da...|Scandinavian Cott...|〚 Уютные шведские...|bc5ab9ee-505e-44f...|\n|    home-decor|Традиционные швед...|         1|        136000|https://i.pinimg....| 6717|            image|PUFIK Interiors &amp;...|Local save in /da...|Scandinavian Cott...|〚 Уютные шведские...|bc5ab9ee-505e-44f...|\n|event-planning|15.1k Likes, 83 C...|         1|           311|https://i.pinimg....| 4858|            image|      Marie Bradford|Local save in /da...|Diy Birthday Deco...| THE EVENT COLLECT...|58101415-9273-431...|\n|event-planning|Wow your guests! ...|         1|          1000|https://i.pinimg....| 4608|            image|Iconica Design | ...|Local save in /da...|Christmas Party B...| Virtual Baby Show...|d234e56f-5b18-4ef...|\n|    home-decor|6,636 Likes, 141 ...|         1|           394|https://i.pinimg....| 6633|            image|        Sarah Martin|Local save in /da...|Diy Kitchen Cabin...| The Cottage Journ...|d136f6bc-840d-44f...|\n|     christmas|Features: Materia...|         1|          5000|https://i.pinimg....| 1706|            image|            Wear24-7|Local save in /da...|Merry Christmas T...| Standing Figurine...|b5c8a1b5-9e90-452...|\n|     christmas|Features: Materia...|         1|          5000|https://i.pinimg....| 1706|            image|            Wear24-7|Local save in /da...|Merry Christmas T...| Standing Figurine...|b5c8a1b5-9e90-452...|\n|     christmas|Features: Materia...|         1|          5000|https://i.pinimg....| 1706|            image|            Wear24-7|Local save in /da...|Merry Christmas T...| Standing Figurine...|b5c8a1b5-9e90-452...|\n|     christmas|❤️ ❤️ MERRY CHRIS...|         1|           784|https://i.pinimg....| 1676|            image|              paupoo|Local save in /da...|Christmas Hanging...| PAUPOO™ Pre-lit A...|3ed92c2d-9cca-4cc...|\n+--------------+--------------------+----------+--------------+--------------------+-----+-----------------+--------------------+--------------------+--------------------+---------------------+--------------------+\nonly showing top 10 rows\n\n</div>",
       "datasetInfos": [],
       "metadata": {},
       "removedWidgets": [],
       "type": "html"
      }
     },
     "output_type": "display_data"
    }
   ],
   "source": [
    "# (3) Ensure that each column containing numeric data has a numeric data type\n",
    "# Start by displaying the first 10 rows to identify candidate columns\n",
    "df_pin.show(10, truncate=True)"
   ]
  },
  {
   "cell_type": "code",
   "execution_count": 0,
   "metadata": {
    "application/vnd.databricks.v1+cell": {
     "cellMetadata": {
      "byteLimit": 2048000,
      "rowLimit": 10000
     },
     "inputWidgets": {},
     "nuid": "db0c7373-dfea-47fe-a016-b64f85d44050",
     "showTitle": false,
     "title": ""
    }
   },
   "outputs": [
    {
     "output_type": "display_data",
     "data": {
      "text/html": [
       "<style scoped>\n",
       "  .ansiout {\n",
       "    display: block;\n",
       "    unicode-bidi: embed;\n",
       "    white-space: pre-wrap;\n",
       "    word-wrap: break-word;\n",
       "    word-break: break-all;\n",
       "    font-family: \"Menlo\", \"Monaco\", \"Consolas\", \"Ubuntu Mono\", \"Source Code Pro\", monospace;\n",
       "    font-size: 13px;\n",
       "    color: #555;\n",
       "    margin-left: 4px;\n",
       "    line-height: 19px;\n",
       "  }\n",
       "</style>\n",
       "<div class=\"ansiout\">+------------------+-----+\n",
       "downloaded_pattern|count|\n",
       "+------------------+-----+\n",
       "                 9| 1962|\n",
       "+------------------+-----+\n",
       "\n",
       "+-------------+-----+\n",
       "index_pattern|count|\n",
       "+-------------+-----+\n",
       "            9| 1962|\n",
       "+-------------+-----+\n",
       "\n",
       "</div>"
      ]
     },
     "metadata": {
      "application/vnd.databricks.v1+output": {
       "addedWidgets": {},
       "arguments": {},
       "data": "<div class=\"ansiout\">+------------------+-----+\n|downloaded_pattern|count|\n+------------------+-----+\n|                 9| 1962|\n+------------------+-----+\n\n+-------------+-----+\n|index_pattern|count|\n+-------------+-----+\n|            9| 1962|\n+-------------+-----+\n\n</div>",
       "datasetInfos": [],
       "metadata": {},
       "removedWidgets": [],
       "type": "html"
      }
     },
     "output_type": "display_data"
    }
   ],
   "source": [
    "# It looks like the following columns are numeric: downloaded, index, follower_count\n",
    "# follower_count has already been transformed; let's deal with the remaining columns\n",
    "numeric_cols = ['downloaded', 'index']\n",
    "for col in numeric_cols:\n",
    "    df_pin = show_non_numeric_patterns(df_pin, col) "
   ]
  },
  {
   "cell_type": "code",
   "execution_count": 0,
   "metadata": {
    "application/vnd.databricks.v1+cell": {
     "cellMetadata": {
      "byteLimit": 2048000,
      "rowLimit": 10000
     },
     "inputWidgets": {},
     "nuid": "4cfb5d04-0c75-4144-a0c0-daac838358cf",
     "showTitle": false,
     "title": ""
    }
   },
   "outputs": [
    {
     "output_type": "display_data",
     "data": {
      "text/html": [
       "<style scoped>\n",
       "  .ansiout {\n",
       "    display: block;\n",
       "    unicode-bidi: embed;\n",
       "    white-space: pre-wrap;\n",
       "    word-wrap: break-word;\n",
       "    word-break: break-all;\n",
       "    font-family: \"Menlo\", \"Monaco\", \"Consolas\", \"Ubuntu Mono\", \"Source Code Pro\", monospace;\n",
       "    font-size: 13px;\n",
       "    color: #555;\n",
       "    margin-left: 4px;\n",
       "    line-height: 19px;\n",
       "  }\n",
       "</style>\n",
       "<div class=\"ansiout\">root\n",
       "-- category: string (nullable = true)\n",
       "-- description: string (nullable = true)\n",
       "-- downloaded: integer (nullable = true)\n",
       "-- follower_count: integer (nullable = true)\n",
       "-- image_src: string (nullable = true)\n",
       "-- index: integer (nullable = true)\n",
       "-- is_image_or_video: string (nullable = true)\n",
       "-- poster_name: string (nullable = true)\n",
       "-- save_location: string (nullable = true)\n",
       "-- tag_list: string (nullable = true)\n",
       "-- title: string (nullable = true)\n",
       "-- unique_id: string (nullable = true)\n",
       "\n",
       "</div>"
      ]
     },
     "metadata": {
      "application/vnd.databricks.v1+output": {
       "addedWidgets": {},
       "arguments": {},
       "data": "<div class=\"ansiout\">root\n |-- category: string (nullable = true)\n |-- description: string (nullable = true)\n |-- downloaded: integer (nullable = true)\n |-- follower_count: integer (nullable = true)\n |-- image_src: string (nullable = true)\n |-- index: integer (nullable = true)\n |-- is_image_or_video: string (nullable = true)\n |-- poster_name: string (nullable = true)\n |-- save_location: string (nullable = true)\n |-- tag_list: string (nullable = true)\n |-- title: string (nullable = true)\n |-- unique_id: string (nullable = true)\n\n</div>",
       "datasetInfos": [],
       "metadata": {},
       "removedWidgets": [],
       "type": "html"
      }
     },
     "output_type": "display_data"
    }
   ],
   "source": [
    "# The downloaded and index columns are already populated with integers only; therefore \n",
    "# no transformations are required before casting data as int\n",
    "for col in numeric_cols:\n",
    "    df_pin = df_pin.withColumn(col, df_pin[col].cast(IntegerType()))\n",
    "\n",
    "# Drop intermediate columns created by the show_non_numeric_patterns function\n",
    "df_pin = df_pin.drop(*[c + '_pattern' for c in numeric_cols])\n",
    "\n",
    "# Print schema to make sure the transformations were performed as expected\n",
    "df_pin.printSchema()"
   ]
  },
  {
   "cell_type": "code",
   "execution_count": 0,
   "metadata": {
    "application/vnd.databricks.v1+cell": {
     "cellMetadata": {
      "byteLimit": 2048000,
      "rowLimit": 10000
     },
     "inputWidgets": {},
     "nuid": "a0fbb71a-1a16-4ca7-97e5-f62765ccab6f",
     "showTitle": false,
     "title": ""
    }
   },
   "outputs": [
    {
     "output_type": "display_data",
     "data": {
      "text/html": [
       "<style scoped>\n",
       "  .ansiout {\n",
       "    display: block;\n",
       "    unicode-bidi: embed;\n",
       "    white-space: pre-wrap;\n",
       "    word-wrap: break-word;\n",
       "    word-break: break-all;\n",
       "    font-family: \"Menlo\", \"Monaco\", \"Consolas\", \"Ubuntu Mono\", \"Source Code Pro\", monospace;\n",
       "    font-size: 13px;\n",
       "    color: #555;\n",
       "    margin-left: 4px;\n",
       "    line-height: 19px;\n",
       "  }\n",
       "</style>\n",
       "<div class=\"ansiout\">13 unique values\n",
       "+----------------------------------+\n",
       "save_location                     |\n",
       "+----------------------------------+\n",
       "Local save in /data/education     |\n",
       "Local save in /data/finance       |\n",
       "Local save in /data/diy-and-crafts|\n",
       "Local save in /data/event-planning|\n",
       "Local save in /data/art           |\n",
       "Local save in /data/mens-fashion  |\n",
       "Local save in /data/travel        |\n",
       "Local save in /data/christmas     |\n",
       "Local save in /data/tattoos       |\n",
       "Local save in /data/home-decor    |\n",
       "Local save in /data/quotes        |\n",
       "Local save in /data/beauty        |\n",
       "Local save in /data/vehicles      |\n",
       "+----------------------------------+\n",
       "\n",
       "</div>"
      ]
     },
     "metadata": {
      "application/vnd.databricks.v1+output": {
       "addedWidgets": {},
       "arguments": {},
       "data": "<div class=\"ansiout\">13 unique values\n+----------------------------------+\n|save_location                     |\n+----------------------------------+\n|Local save in /data/education     |\n|Local save in /data/finance       |\n|Local save in /data/diy-and-crafts|\n|Local save in /data/event-planning|\n|Local save in /data/art           |\n|Local save in /data/mens-fashion  |\n|Local save in /data/travel        |\n|Local save in /data/christmas     |\n|Local save in /data/tattoos       |\n|Local save in /data/home-decor    |\n|Local save in /data/quotes        |\n|Local save in /data/beauty        |\n|Local save in /data/vehicles      |\n+----------------------------------+\n\n</div>",
       "datasetInfos": [],
       "metadata": {},
       "removedWidgets": [],
       "type": "html"
      }
     },
     "output_type": "display_data"
    }
   ],
   "source": [
    "# (4) Clean the data in the save_location column to include only the save location path\n",
    "# Start by manually reviewing the data to look for patterns.\n",
    "# Display unique values (cache the DataFrame to speed up any subsequent calls to distinct())\n",
    "num_unique_vals = df_pin.select('save_location').distinct().count()\n",
    "df_pin.cache()\n",
    "\n",
    "print(f'{num_unique_vals:,} unique values')\n",
    "if num_unique_vals < 50:\n",
    "    df_pin.select('save_location').distinct().show(truncate=False)\n",
    "else:\n",
    "    df_pin.select('save_location').show(50, truncate=False)"
   ]
  },
  {
   "cell_type": "code",
   "execution_count": 0,
   "metadata": {
    "application/vnd.databricks.v1+cell": {
     "cellMetadata": {
      "byteLimit": 2048000,
      "rowLimit": 10000
     },
     "inputWidgets": {},
     "nuid": "fc039d0e-af98-4f91-bb90-efa09661dcd7",
     "showTitle": false,
     "title": ""
    }
   },
   "outputs": [
    {
     "output_type": "display_data",
     "data": {
      "text/html": [
       "<style scoped>\n",
       "  .ansiout {\n",
       "    display: block;\n",
       "    unicode-bidi: embed;\n",
       "    white-space: pre-wrap;\n",
       "    word-wrap: break-word;\n",
       "    word-break: break-all;\n",
       "    font-family: \"Menlo\", \"Monaco\", \"Consolas\", \"Ubuntu Mono\", \"Source Code Pro\", monospace;\n",
       "    font-size: 13px;\n",
       "    color: #555;\n",
       "    margin-left: 4px;\n",
       "    line-height: 19px;\n",
       "  }\n",
       "</style>\n",
       "<div class=\"ansiout\">+--------------------+\n",
       "save_location       |\n",
       "+--------------------+\n",
       "/data/education     |\n",
       "/data/diy-and-crafts|\n",
       "/data/travel        |\n",
       "/data/christmas     |\n",
       "/data/art           |\n",
       "/data/finance       |\n",
       "/data/event-planning|\n",
       "/data/mens-fashion  |\n",
       "/data/home-decor    |\n",
       "/data/tattoos       |\n",
       "/data/beauty        |\n",
       "/data/quotes        |\n",
       "/data/vehicles      |\n",
       "+--------------------+\n",
       "\n",
       "</div>"
      ]
     },
     "metadata": {
      "application/vnd.databricks.v1+output": {
       "addedWidgets": {},
       "arguments": {},
       "data": "<div class=\"ansiout\">+--------------------+\n|save_location       |\n+--------------------+\n|/data/education     |\n|/data/diy-and-crafts|\n|/data/travel        |\n|/data/christmas     |\n|/data/art           |\n|/data/finance       |\n|/data/event-planning|\n|/data/mens-fashion  |\n|/data/home-decor    |\n|/data/tattoos       |\n|/data/beauty        |\n|/data/quotes        |\n|/data/vehicles      |\n+--------------------+\n\n</div>",
       "datasetInfos": [],
       "metadata": {},
       "removedWidgets": [],
       "type": "html"
      }
     },
     "output_type": "display_data"
    }
   ],
   "source": [
    "# All the records follow a consistent pattern; can therefore be cleaned using regexp_replace\n",
    "df_pin = df_pin.withColumn('save_location', F.regexp_replace('save_location', 'Local save in ', ''))\n",
    "df_pin.select('save_location').distinct().show(truncate=False)"
   ]
  },
  {
   "cell_type": "code",
   "execution_count": 0,
   "metadata": {
    "application/vnd.databricks.v1+cell": {
     "cellMetadata": {
      "byteLimit": 2048000,
      "rowLimit": 10000
     },
     "inputWidgets": {},
     "nuid": "716470de-1b41-43ee-a6d8-ba06fecbd535",
     "showTitle": false,
     "title": ""
    }
   },
   "outputs": [
    {
     "output_type": "display_data",
     "data": {
      "text/html": [
       "<style scoped>\n",
       "  .ansiout {\n",
       "    display: block;\n",
       "    unicode-bidi: embed;\n",
       "    white-space: pre-wrap;\n",
       "    word-wrap: break-word;\n",
       "    word-break: break-all;\n",
       "    font-family: \"Menlo\", \"Monaco\", \"Consolas\", \"Ubuntu Mono\", \"Source Code Pro\", monospace;\n",
       "    font-size: 13px;\n",
       "    color: #555;\n",
       "    margin-left: 4px;\n",
       "    line-height: 19px;\n",
       "  }\n",
       "</style>\n",
       "<div class=\"ansiout\">root\n",
       "-- ind: integer (nullable = true)\n",
       "-- unique_id: string (nullable = true)\n",
       "-- title: string (nullable = true)\n",
       "-- description: string (nullable = true)\n",
       "-- follower_count: integer (nullable = true)\n",
       "-- poster_name: string (nullable = true)\n",
       "-- tag_list: string (nullable = true)\n",
       "-- is_image_or_video: string (nullable = true)\n",
       "-- image_src: string (nullable = true)\n",
       "-- save_location: string (nullable = true)\n",
       "-- category: string (nullable = true)\n",
       "\n",
       "</div>"
      ]
     },
     "metadata": {
      "application/vnd.databricks.v1+output": {
       "addedWidgets": {},
       "arguments": {},
       "data": "<div class=\"ansiout\">root\n |-- ind: integer (nullable = true)\n |-- unique_id: string (nullable = true)\n |-- title: string (nullable = true)\n |-- description: string (nullable = true)\n |-- follower_count: integer (nullable = true)\n |-- poster_name: string (nullable = true)\n |-- tag_list: string (nullable = true)\n |-- is_image_or_video: string (nullable = true)\n |-- image_src: string (nullable = true)\n |-- save_location: string (nullable = true)\n |-- category: string (nullable = true)\n\n</div>",
       "datasetInfos": [],
       "metadata": {},
       "removedWidgets": [],
       "type": "html"
      }
     },
     "output_type": "display_data"
    }
   ],
   "source": [
    "# (6) Rename the index column to ind, and reorder the columns.\n",
    "cols = [    \n",
    "    'ind',\n",
    "    'unique_id',\n",
    "    'title',\n",
    "    'description',\n",
    "    'follower_count',\n",
    "    'poster_name',\n",
    "    'tag_list',\n",
    "    'is_image_or_video',\n",
    "    'image_src',\n",
    "    'save_location',\n",
    "    'category'\n",
    "    ]\n",
    "df_pin = df_pin.withColumnRenamed('index', 'ind').select(cols)\n",
    "df_pin.printSchema()"
   ]
  },
  {
   "cell_type": "code",
   "execution_count": 0,
   "metadata": {
    "application/vnd.databricks.v1+cell": {
     "cellMetadata": {
      "byteLimit": 2048000,
      "rowLimit": 10000
     },
     "inputWidgets": {},
     "nuid": "d75be79f-8e33-4263-9c56-f42a850ae086",
     "showTitle": false,
     "title": ""
    }
   },
   "outputs": [
    {
     "output_type": "display_data",
     "data": {
      "text/html": [
       "<style scoped>\n",
       "  .ansiout {\n",
       "    display: block;\n",
       "    unicode-bidi: embed;\n",
       "    white-space: pre-wrap;\n",
       "    word-wrap: break-word;\n",
       "    word-break: break-all;\n",
       "    font-family: \"Menlo\", \"Monaco\", \"Consolas\", \"Ubuntu Mono\", \"Source Code Pro\", monospace;\n",
       "    font-size: 13px;\n",
       "    color: #555;\n",
       "    margin-left: 4px;\n",
       "    line-height: 19px;\n",
       "  }\n",
       "</style>\n",
       "<div class=\"ansiout\">Loading topic 0ec858bf1407.geo... 1,904 records loaded.\n",
       "root\n",
       "-- country: string (nullable = true)\n",
       "-- ind: long (nullable = true)\n",
       "-- latitude: double (nullable = true)\n",
       "-- longitude: double (nullable = true)\n",
       "-- timestamp: string (nullable = true)\n",
       "\n",
       "</div>"
      ]
     },
     "metadata": {
      "application/vnd.databricks.v1+output": {
       "addedWidgets": {},
       "arguments": {},
       "data": "<div class=\"ansiout\">Loading topic 0ec858bf1407.geo... 1,904 records loaded.\nroot\n |-- country: string (nullable = true)\n |-- ind: long (nullable = true)\n |-- latitude: double (nullable = true)\n |-- longitude: double (nullable = true)\n |-- timestamp: string (nullable = true)\n\n</div>",
       "datasetInfos": [],
       "metadata": {},
       "removedWidgets": [],
       "type": "html"
      }
     },
     "output_type": "display_data"
    }
   ],
   "source": [
    "#############################################################################################################\n",
    "# TASK 2: Clean the df_geo (geolocation) DataFrame\n",
    "#############################################################################################################\n",
    "# Load data from the geo topic into df_geo.\n",
    "df_geo = load_data('geo')"
   ]
  },
  {
   "cell_type": "code",
   "execution_count": 0,
   "metadata": {
    "application/vnd.databricks.v1+cell": {
     "cellMetadata": {
      "byteLimit": 2048000,
      "rowLimit": 10000
     },
     "inputWidgets": {},
     "nuid": "16c021f9-0fd0-4dfc-931d-0a8a2627b0dd",
     "showTitle": false,
     "title": ""
    }
   },
   "outputs": [
    {
     "output_type": "display_data",
     "data": {
      "text/html": [
       "<style scoped>\n",
       "  .ansiout {\n",
       "    display: block;\n",
       "    unicode-bidi: embed;\n",
       "    white-space: pre-wrap;\n",
       "    word-wrap: break-word;\n",
       "    word-break: break-all;\n",
       "    font-family: \"Menlo\", \"Monaco\", \"Consolas\", \"Ubuntu Mono\", \"Source Code Pro\", monospace;\n",
       "    font-size: 13px;\n",
       "    color: #555;\n",
       "    margin-left: 4px;\n",
       "    line-height: 19px;\n",
       "  }\n",
       "</style>\n",
       "<div class=\"ansiout\">+--------+---------+--------------------+\n",
       "latitude|longitude|coordinates         |\n",
       "+--------+---------+--------------------+\n",
       "-82.9272|-150.346 |[-82.9272, -150.346]|\n",
       "-86.5675|-149.565 |[-86.5675, -149.565]|\n",
       "-83.7472|8.65953  |[-83.7472, 8.65953] |\n",
       "-87.013 |133.062  |[-87.013, 133.062]  |\n",
       "-32.8885|-170.295 |[-32.8885, -170.295]|\n",
       "-32.8885|-170.295 |[-32.8885, -170.295]|\n",
       "-88.4642|-171.061 |[-88.4642, -171.061]|\n",
       "-88.4642|-171.061 |[-88.4642, -171.061]|\n",
       "-71.6607|-149.206 |[-71.6607, -149.206]|\n",
       "-77.9931|-175.682 |[-77.9931, -175.682]|\n",
       "+--------+---------+--------------------+\n",
       "only showing top 10 rows\n",
       "\n",
       "root\n",
       "-- country: string (nullable = true)\n",
       "-- ind: long (nullable = true)\n",
       "-- timestamp: string (nullable = true)\n",
       "-- coordinates: array (nullable = true)\n",
       "    |-- element: double (containsNull = true)\n",
       "\n",
       "</div>"
      ]
     },
     "metadata": {
      "application/vnd.databricks.v1+output": {
       "addedWidgets": {},
       "arguments": {},
       "data": "<div class=\"ansiout\">+--------+---------+--------------------+\n|latitude|longitude|coordinates         |\n+--------+---------+--------------------+\n|-82.9272|-150.346 |[-82.9272, -150.346]|\n|-86.5675|-149.565 |[-86.5675, -149.565]|\n|-83.7472|8.65953  |[-83.7472, 8.65953] |\n|-87.013 |133.062  |[-87.013, 133.062]  |\n|-32.8885|-170.295 |[-32.8885, -170.295]|\n|-32.8885|-170.295 |[-32.8885, -170.295]|\n|-88.4642|-171.061 |[-88.4642, -171.061]|\n|-88.4642|-171.061 |[-88.4642, -171.061]|\n|-71.6607|-149.206 |[-71.6607, -149.206]|\n|-77.9931|-175.682 |[-77.9931, -175.682]|\n+--------+---------+--------------------+\nonly showing top 10 rows\n\nroot\n |-- country: string (nullable = true)\n |-- ind: long (nullable = true)\n |-- timestamp: string (nullable = true)\n |-- coordinates: array (nullable = true)\n |    |-- element: double (containsNull = true)\n\n</div>",
       "datasetInfos": [],
       "metadata": {},
       "removedWidgets": [],
       "type": "html"
      }
     },
     "output_type": "display_data"
    }
   ],
   "source": [
    "# (1) Create a new column coordinates that contains an array based on the latitude and longitude columns\n",
    "# Start by defining a UDF that takes multiple columns and returns an array.\n",
    "def make_list(*args):\n",
    "    return list(args)\n",
    "\n",
    "udf_make_list = F.udf(make_list, ArrayType(DoubleType()))\n",
    "\n",
    "# Then apply the UDF to latitude and longitude\n",
    "df_geo = df_geo.withColumn('coordinates', udf_make_list('latitude', 'longitude'))\n",
    "df_geo.select('latitude', 'longitude', 'coordinates').show(10, truncate=False)\n",
    "\n",
    "# (2) Drop the latitude and longitude columns from the DataFrame\n",
    "df_geo = df_geo.drop('latitude', 'longitude')\n",
    "df_geo.printSchema()"
   ]
  },
  {
   "cell_type": "code",
   "execution_count": 0,
   "metadata": {
    "application/vnd.databricks.v1+cell": {
     "cellMetadata": {
      "byteLimit": 2048000,
      "rowLimit": 10000
     },
     "inputWidgets": {},
     "nuid": "c8494aec-cdaf-461c-8900-ce7d30cd0ddc",
     "showTitle": false,
     "title": ""
    }
   },
   "outputs": [
    {
     "output_type": "display_data",
     "data": {
      "text/html": [
       "<style scoped>\n",
       "  .ansiout {\n",
       "    display: block;\n",
       "    unicode-bidi: embed;\n",
       "    white-space: pre-wrap;\n",
       "    word-wrap: break-word;\n",
       "    word-break: break-all;\n",
       "    font-family: \"Menlo\", \"Monaco\", \"Consolas\", \"Ubuntu Mono\", \"Source Code Pro\", monospace;\n",
       "    font-size: 13px;\n",
       "    color: #555;\n",
       "    margin-left: 4px;\n",
       "    line-height: 19px;\n",
       "  }\n",
       "</style>\n",
       "<div class=\"ansiout\">+-------------------+-----+\n",
       "  timestamp_pattern|count|\n",
       "+-------------------+-----+\n",
       "9999-99-99 99:99:99| 1904|\n",
       "+-------------------+-----+\n",
       "\n",
       "</div>"
      ]
     },
     "metadata": {
      "application/vnd.databricks.v1+output": {
       "addedWidgets": {},
       "arguments": {},
       "data": "<div class=\"ansiout\">+-------------------+-----+\n|  timestamp_pattern|count|\n+-------------------+-----+\n|9999-99-99 99:99:99| 1904|\n+-------------------+-----+\n\n</div>",
       "datasetInfos": [],
       "metadata": {},
       "removedWidgets": [],
       "type": "html"
      }
     },
     "output_type": "display_data"
    }
   ],
   "source": [
    "# (3) Convert the timestamp column from a string to a timestamp data type\n",
    "# Start by looking for patterns in the timestamp field\n",
    "df_geo.groupBy(F.regexp_replace('timestamp', '[0-9]', '9').alias('timestamp_pattern')).count().show()"
   ]
  },
  {
   "cell_type": "code",
   "execution_count": 0,
   "metadata": {
    "application/vnd.databricks.v1+cell": {
     "cellMetadata": {
      "byteLimit": 2048000,
      "rowLimit": 10000
     },
     "inputWidgets": {},
     "nuid": "b68671a7-d594-4a82-9fec-1e1a85feed4f",
     "showTitle": false,
     "title": ""
    }
   },
   "outputs": [
    {
     "output_type": "display_data",
     "data": {
      "text/html": [
       "<style scoped>\n",
       "  .ansiout {\n",
       "    display: block;\n",
       "    unicode-bidi: embed;\n",
       "    white-space: pre-wrap;\n",
       "    word-wrap: break-word;\n",
       "    word-break: break-all;\n",
       "    font-family: \"Menlo\", \"Monaco\", \"Consolas\", \"Ubuntu Mono\", \"Source Code Pro\", monospace;\n",
       "    font-size: 13px;\n",
       "    color: #555;\n",
       "    margin-left: 4px;\n",
       "    line-height: 19px;\n",
       "  }\n",
       "</style>\n",
       "<div class=\"ansiout\">+-------------------+-------------------+\n",
       "          timestamp|timestamp_converted|\n",
       "+-------------------+-------------------+\n",
       "2022-03-15 01:46:32|2022-03-15 01:46:32|\n",
       "2022-09-02 11:34:28|2022-09-02 11:34:28|\n",
       "2021-04-01 00:56:57|2021-04-01 00:56:57|\n",
       "2020-01-09 19:18:54|2020-01-09 19:18:54|\n",
       "2021-06-29 19:56:04|2021-06-29 19:56:04|\n",
       "2021-06-29 19:56:04|2021-06-29 19:56:04|\n",
       "2022-05-27 11:30:59|2022-05-27 11:30:59|\n",
       "2022-05-27 11:30:59|2022-05-27 11:30:59|\n",
       "2019-09-27 19:06:43|2019-09-27 19:06:43|\n",
       "2022-03-19 17:29:42|2022-03-19 17:29:42|\n",
       "+-------------------+-------------------+\n",
       "only showing top 10 rows\n",
       "\n",
       "</div>"
      ]
     },
     "metadata": {
      "application/vnd.databricks.v1+output": {
       "addedWidgets": {},
       "arguments": {},
       "data": "<div class=\"ansiout\">+-------------------+-------------------+\n|          timestamp|timestamp_converted|\n+-------------------+-------------------+\n|2022-03-15 01:46:32|2022-03-15 01:46:32|\n|2022-09-02 11:34:28|2022-09-02 11:34:28|\n|2021-04-01 00:56:57|2021-04-01 00:56:57|\n|2020-01-09 19:18:54|2020-01-09 19:18:54|\n|2021-06-29 19:56:04|2021-06-29 19:56:04|\n|2021-06-29 19:56:04|2021-06-29 19:56:04|\n|2022-05-27 11:30:59|2022-05-27 11:30:59|\n|2022-05-27 11:30:59|2022-05-27 11:30:59|\n|2019-09-27 19:06:43|2019-09-27 19:06:43|\n|2022-03-19 17:29:42|2022-03-19 17:29:42|\n+-------------------+-------------------+\nonly showing top 10 rows\n\n</div>",
       "datasetInfos": [],
       "metadata": {},
       "removedWidgets": [],
       "type": "html"
      }
     },
     "output_type": "display_data"
    }
   ],
   "source": [
    "# All timestamps are in a consistent format. Convert using sql.functions.to_timestamp;\n",
    "# Display records to verify that timestamps were parsed correctly\n",
    "df_geo = df_geo.withColumn('timestamp_converted', F.to_timestamp('timestamp'))\n",
    "df_geo.select('timestamp', 'timestamp_converted').show(10)"
   ]
  },
  {
   "cell_type": "code",
   "execution_count": 0,
   "metadata": {
    "application/vnd.databricks.v1+cell": {
     "cellMetadata": {
      "byteLimit": 2048000,
      "rowLimit": 10000
     },
     "inputWidgets": {},
     "nuid": "02ca076f-8a62-488a-adff-68ab1e877686",
     "showTitle": false,
     "title": ""
    }
   },
   "outputs": [
    {
     "output_type": "display_data",
     "data": {
      "text/html": [
       "<style scoped>\n",
       "  .ansiout {\n",
       "    display: block;\n",
       "    unicode-bidi: embed;\n",
       "    white-space: pre-wrap;\n",
       "    word-wrap: break-word;\n",
       "    word-break: break-all;\n",
       "    font-family: \"Menlo\", \"Monaco\", \"Consolas\", \"Ubuntu Mono\", \"Source Code Pro\", monospace;\n",
       "    font-size: 13px;\n",
       "    color: #555;\n",
       "    margin-left: 4px;\n",
       "    line-height: 19px;\n",
       "  }\n",
       "</style>\n",
       "<div class=\"ansiout\"></div>"
      ]
     },
     "metadata": {
      "application/vnd.databricks.v1+output": {
       "addedWidgets": {},
       "arguments": {},
       "data": "<div class=\"ansiout\"></div>",
       "datasetInfos": [],
       "metadata": {},
       "removedWidgets": [],
       "type": "html"
      }
     },
     "output_type": "display_data"
    }
   ],
   "source": [
    "# Replace the timestamp column with converted values and drop the intermediate column\n",
    "df_geo = df_geo.withColumn('timestamp', df_geo.timestamp_converted).drop('timestamp_converted')"
   ]
  },
  {
   "cell_type": "code",
   "execution_count": 0,
   "metadata": {
    "application/vnd.databricks.v1+cell": {
     "cellMetadata": {
      "byteLimit": 2048000,
      "rowLimit": 10000
     },
     "inputWidgets": {},
     "nuid": "982a3da3-3cb9-48df-96fe-1d6ff2046e71",
     "showTitle": false,
     "title": ""
    }
   },
   "outputs": [
    {
     "output_type": "display_data",
     "data": {
      "text/html": [
       "<style scoped>\n",
       "  .ansiout {\n",
       "    display: block;\n",
       "    unicode-bidi: embed;\n",
       "    white-space: pre-wrap;\n",
       "    word-wrap: break-word;\n",
       "    word-break: break-all;\n",
       "    font-family: \"Menlo\", \"Monaco\", \"Consolas\", \"Ubuntu Mono\", \"Source Code Pro\", monospace;\n",
       "    font-size: 13px;\n",
       "    color: #555;\n",
       "    margin-left: 4px;\n",
       "    line-height: 19px;\n",
       "  }\n",
       "</style>\n",
       "<div class=\"ansiout\">root\n",
       "-- ind: long (nullable = true)\n",
       "-- country: string (nullable = true)\n",
       "-- coordinates: array (nullable = true)\n",
       "    |-- element: double (containsNull = true)\n",
       "-- timestamp: timestamp (nullable = true)\n",
       "\n",
       "</div>"
      ]
     },
     "metadata": {
      "application/vnd.databricks.v1+output": {
       "addedWidgets": {},
       "arguments": {},
       "data": "<div class=\"ansiout\">root\n |-- ind: long (nullable = true)\n |-- country: string (nullable = true)\n |-- coordinates: array (nullable = true)\n |    |-- element: double (containsNull = true)\n |-- timestamp: timestamp (nullable = true)\n\n</div>",
       "datasetInfos": [],
       "metadata": {},
       "removedWidgets": [],
       "type": "html"
      }
     },
     "output_type": "display_data"
    }
   ],
   "source": [
    "# (4) Reorder columns\n",
    "df_geo = df_geo.select('ind', 'country', 'coordinates', 'timestamp')\n",
    "df_geo.printSchema()"
   ]
  },
  {
   "cell_type": "code",
   "execution_count": 0,
   "metadata": {
    "application/vnd.databricks.v1+cell": {
     "cellMetadata": {
      "byteLimit": 2048000,
      "rowLimit": 10000
     },
     "inputWidgets": {},
     "nuid": "c42412b4-5983-4602-8b3c-797d78fb9f18",
     "showTitle": false,
     "title": ""
    }
   },
   "outputs": [
    {
     "output_type": "display_data",
     "data": {
      "text/html": [
       "<style scoped>\n",
       "  .ansiout {\n",
       "    display: block;\n",
       "    unicode-bidi: embed;\n",
       "    white-space: pre-wrap;\n",
       "    word-wrap: break-word;\n",
       "    word-break: break-all;\n",
       "    font-family: \"Menlo\", \"Monaco\", \"Consolas\", \"Ubuntu Mono\", \"Source Code Pro\", monospace;\n",
       "    font-size: 13px;\n",
       "    color: #555;\n",
       "    margin-left: 4px;\n",
       "    line-height: 19px;\n",
       "  }\n",
       "</style>\n",
       "<div class=\"ansiout\">Loading topic 0ec858bf1407.user... 1,904 records loaded.\n",
       "root\n",
       "-- age: long (nullable = true)\n",
       "-- date_joined: string (nullable = true)\n",
       "-- first_name: string (nullable = true)\n",
       "-- ind: long (nullable = true)\n",
       "-- last_name: string (nullable = true)\n",
       "\n",
       "</div>"
      ]
     },
     "metadata": {
      "application/vnd.databricks.v1+output": {
       "addedWidgets": {},
       "arguments": {},
       "data": "<div class=\"ansiout\">Loading topic 0ec858bf1407.user... 1,904 records loaded.\nroot\n |-- age: long (nullable = true)\n |-- date_joined: string (nullable = true)\n |-- first_name: string (nullable = true)\n |-- ind: long (nullable = true)\n |-- last_name: string (nullable = true)\n\n</div>",
       "datasetInfos": [],
       "metadata": {},
       "removedWidgets": [],
       "type": "html"
      }
     },
     "output_type": "display_data"
    }
   ],
   "source": [
    "#############################################################################################################\n",
    "# TASK 3: Clean the df_user DataFrame\n",
    "#############################################################################################################\n",
    "# Load data from the user topic into df_user.\n",
    "df_user = load_data('user')"
   ]
  },
  {
   "cell_type": "code",
   "execution_count": 0,
   "metadata": {
    "application/vnd.databricks.v1+cell": {
     "cellMetadata": {
      "byteLimit": 2048000,
      "rowLimit": 10000
     },
     "inputWidgets": {},
     "nuid": "8de38434-c6f3-4280-b553-49bd781b9d52",
     "showTitle": false,
     "title": ""
    }
   },
   "outputs": [
    {
     "output_type": "display_data",
     "data": {
      "text/html": [
       "<style scoped>\n",
       "  .ansiout {\n",
       "    display: block;\n",
       "    unicode-bidi: embed;\n",
       "    white-space: pre-wrap;\n",
       "    word-wrap: break-word;\n",
       "    word-break: break-all;\n",
       "    font-family: \"Menlo\", \"Monaco\", \"Consolas\", \"Ubuntu Mono\", \"Source Code Pro\", monospace;\n",
       "    font-size: 13px;\n",
       "    color: #555;\n",
       "    margin-left: 4px;\n",
       "    line-height: 19px;\n",
       "  }\n",
       "</style>\n",
       "<div class=\"ansiout\">+-----------+---------+---------------------+\n",
       "first_name |last_name|user_name            |\n",
       "+-----------+---------+---------------------+\n",
       "Christopher|Hernandez|Christopher Hernandez|\n",
       "Christopher|Bradshaw |Christopher Bradshaw |\n",
       "Alexander  |Cervantes|Alexander Cervantes  |\n",
       "Christopher|Hamilton |Christopher Hamilton |\n",
       "Christopher|Bradshaw |Christopher Bradshaw |\n",
       "Alexander  |Cervantes|Alexander Cervantes  |\n",
       "Christopher|Hamilton |Christopher Hamilton |\n",
       "Christopher|Hawkins  |Christopher Hawkins  |\n",
       "Christopher|Campbell |Christopher Campbell |\n",
       "Christopher|Anderson |Christopher Anderson |\n",
       "+-----------+---------+---------------------+\n",
       "only showing top 10 rows\n",
       "\n",
       "</div>"
      ]
     },
     "metadata": {
      "application/vnd.databricks.v1+output": {
       "addedWidgets": {},
       "arguments": {},
       "data": "<div class=\"ansiout\">+-----------+---------+---------------------+\n|first_name |last_name|user_name            |\n+-----------+---------+---------------------+\n|Christopher|Hernandez|Christopher Hernandez|\n|Christopher|Bradshaw |Christopher Bradshaw |\n|Alexander  |Cervantes|Alexander Cervantes  |\n|Christopher|Hamilton |Christopher Hamilton |\n|Christopher|Bradshaw |Christopher Bradshaw |\n|Alexander  |Cervantes|Alexander Cervantes  |\n|Christopher|Hamilton |Christopher Hamilton |\n|Christopher|Hawkins  |Christopher Hawkins  |\n|Christopher|Campbell |Christopher Campbell |\n|Christopher|Anderson |Christopher Anderson |\n+-----------+---------+---------------------+\nonly showing top 10 rows\n\n</div>",
       "datasetInfos": [],
       "metadata": {},
       "removedWidgets": [],
       "type": "html"
      }
     },
     "output_type": "display_data"
    }
   ],
   "source": [
    "# (1) Create a new column user_name that concatenates the information found in the first_name and last_name columns.\n",
    "# Trim and normalize whitespace.\n",
    "df_user = df_user.withColumn('user_name', F.regexp_replace(F.trim(F.concat_ws(' ', 'first_name', 'last_name')), '\\s+', ' '))\n",
    "df_user.select('first_name', 'last_name', 'user_name').show(10, truncate=False)"
   ]
  },
  {
   "cell_type": "code",
   "execution_count": 0,
   "metadata": {
    "application/vnd.databricks.v1+cell": {
     "cellMetadata": {
      "byteLimit": 2048000,
      "rowLimit": 10000
     },
     "inputWidgets": {},
     "nuid": "7efe33d5-c662-4322-955f-9ebb67821511",
     "showTitle": false,
     "title": ""
    }
   },
   "outputs": [
    {
     "output_type": "display_data",
     "data": {
      "text/html": [
       "<style scoped>\n",
       "  .ansiout {\n",
       "    display: block;\n",
       "    unicode-bidi: embed;\n",
       "    white-space: pre-wrap;\n",
       "    word-wrap: break-word;\n",
       "    word-break: break-all;\n",
       "    font-family: \"Menlo\", \"Monaco\", \"Consolas\", \"Ubuntu Mono\", \"Source Code Pro\", monospace;\n",
       "    font-size: 13px;\n",
       "    color: #555;\n",
       "    margin-left: 4px;\n",
       "    line-height: 19px;\n",
       "  }\n",
       "</style>\n",
       "<div class=\"ansiout\">+-------------------+-----+\n",
       "        date_joined|count|\n",
       "+-------------------+-----+\n",
       "9999-99-99 99:99:99| 1904|\n",
       "+-------------------+-----+\n",
       "\n",
       "</div>"
      ]
     },
     "metadata": {
      "application/vnd.databricks.v1+output": {
       "addedWidgets": {},
       "arguments": {},
       "data": "<div class=\"ansiout\">+-------------------+-----+\n|        date_joined|count|\n+-------------------+-----+\n|9999-99-99 99:99:99| 1904|\n+-------------------+-----+\n\n</div>",
       "datasetInfos": [],
       "metadata": {},
       "removedWidgets": [],
       "type": "html"
      }
     },
     "output_type": "display_data"
    }
   ],
   "source": [
    "# (2) Drop the first_name and last_name columns from the DataFrame\n",
    "df_user = df_user.drop('first_name', 'last_name')\n",
    "\n",
    "# (3) Convert the date_joined column from a string to a timestamp data type\n",
    "# Start by looking for patterns in the date_joined field\n",
    "df_user.groupBy(F.regexp_replace('date_joined', '[0-9]', '9').alias('date_joined')).count().show()"
   ]
  },
  {
   "cell_type": "code",
   "execution_count": 0,
   "metadata": {
    "application/vnd.databricks.v1+cell": {
     "cellMetadata": {
      "byteLimit": 2048000,
      "rowLimit": 10000
     },
     "inputWidgets": {},
     "nuid": "af04aede-e80a-4631-a4ef-e59826f32fae",
     "showTitle": false,
     "title": ""
    }
   },
   "outputs": [
    {
     "output_type": "display_data",
     "data": {
      "text/html": [
       "<style scoped>\n",
       "  .ansiout {\n",
       "    display: block;\n",
       "    unicode-bidi: embed;\n",
       "    white-space: pre-wrap;\n",
       "    word-wrap: break-word;\n",
       "    word-break: break-all;\n",
       "    font-family: \"Menlo\", \"Monaco\", \"Consolas\", \"Ubuntu Mono\", \"Source Code Pro\", monospace;\n",
       "    font-size: 13px;\n",
       "    color: #555;\n",
       "    margin-left: 4px;\n",
       "    line-height: 19px;\n",
       "  }\n",
       "</style>\n",
       "<div class=\"ansiout\"></div>"
      ]
     },
     "metadata": {
      "application/vnd.databricks.v1+output": {
       "addedWidgets": {},
       "arguments": {},
       "data": "<div class=\"ansiout\"></div>",
       "datasetInfos": [],
       "metadata": {},
       "removedWidgets": [],
       "type": "html"
      }
     },
     "output_type": "display_data"
    }
   ],
   "source": [
    "# All values are in a consistent format. Convert using sql.functions.to_timestamp\n",
    "df_user = df_user.withColumn('date_joined', F.to_timestamp('date_joined'))"
   ]
  },
  {
   "cell_type": "code",
   "execution_count": 0,
   "metadata": {
    "application/vnd.databricks.v1+cell": {
     "cellMetadata": {
      "byteLimit": 2048000,
      "rowLimit": 10000
     },
     "inputWidgets": {},
     "nuid": "79080751-5891-47d0-a24c-4682c818f99a",
     "showTitle": false,
     "title": ""
    }
   },
   "outputs": [
    {
     "output_type": "display_data",
     "data": {
      "text/html": [
       "<style scoped>\n",
       "  .ansiout {\n",
       "    display: block;\n",
       "    unicode-bidi: embed;\n",
       "    white-space: pre-wrap;\n",
       "    word-wrap: break-word;\n",
       "    word-break: break-all;\n",
       "    font-family: \"Menlo\", \"Monaco\", \"Consolas\", \"Ubuntu Mono\", \"Source Code Pro\", monospace;\n",
       "    font-size: 13px;\n",
       "    color: #555;\n",
       "    margin-left: 4px;\n",
       "    line-height: 19px;\n",
       "  }\n",
       "</style>\n",
       "<div class=\"ansiout\">root\n",
       "-- ind: long (nullable = true)\n",
       "-- user_name: string (nullable = false)\n",
       "-- age: long (nullable = true)\n",
       "-- date_joined: timestamp (nullable = true)\n",
       "\n",
       "</div>"
      ]
     },
     "metadata": {
      "application/vnd.databricks.v1+output": {
       "addedWidgets": {},
       "arguments": {},
       "data": "<div class=\"ansiout\">root\n |-- ind: long (nullable = true)\n |-- user_name: string (nullable = false)\n |-- age: long (nullable = true)\n |-- date_joined: timestamp (nullable = true)\n\n</div>",
       "datasetInfos": [],
       "metadata": {},
       "removedWidgets": [],
       "type": "html"
      }
     },
     "output_type": "display_data"
    }
   ],
   "source": [
    "# (4) Reorder columns.\n",
    "df_user = df_user.select('ind', 'user_name', 'age', 'date_joined')\n",
    "df_user.printSchema()"
   ]
  },
  {
   "cell_type": "code",
   "execution_count": 0,
   "metadata": {
    "application/vnd.databricks.v1+cell": {
     "cellMetadata": {
      "byteLimit": 2048000,
      "rowLimit": 10000
     },
     "inputWidgets": {},
     "nuid": "04747efe-6ec6-42fc-96e7-72250cb71c46",
     "showTitle": false,
     "title": ""
    }
   },
   "outputs": [
    {
     "output_type": "display_data",
     "data": {
      "text/html": [
       "<style scoped>\n",
       "  .ansiout {\n",
       "    display: block;\n",
       "    unicode-bidi: embed;\n",
       "    white-space: pre-wrap;\n",
       "    word-wrap: break-word;\n",
       "    word-break: break-all;\n",
       "    font-family: \"Menlo\", \"Monaco\", \"Consolas\", \"Ubuntu Mono\", \"Source Code Pro\", monospace;\n",
       "    font-size: 13px;\n",
       "    color: #555;\n",
       "    margin-left: 4px;\n",
       "    line-height: 19px;\n",
       "  }\n",
       "</style>\n",
       "<div class=\"ansiout\">+--------------------------------------------+--------------+--------------+\n",
       "country                                     |category      |category_count|\n",
       "+--------------------------------------------+--------------+--------------+\n",
       "Afghanistan                                 |education     |27            |\n",
       "Albania                                     |mens-fashion  |95            |\n",
       "Algeria                                     |quotes        |53            |\n",
       "American Samoa                              |education     |17            |\n",
       "Andorra                                     |tattoos       |12            |\n",
       "Angola                                      |diy-and-crafts|22            |\n",
       "Anguilla                                    |home-decor    |18            |\n",
       "Antarctica (the territory South of 60 deg S)|christmas     |12            |\n",
       "Antigua and Barbuda                         |art           |18            |\n",
       "Argentina                                   |tattoos       |24            |\n",
       "Armenia                                     |diy-and-crafts|59            |\n",
       "Aruba                                       |tattoos       |55            |\n",
       "Australia                                   |mens-fashion  |19            |\n",
       "Austria                                     |travel        |20            |\n",
       "Azerbaijan                                  |event-planning|38            |\n",
       "Bahamas                                     |art           |11            |\n",
       "Bahrain                                     |finance       |6             |\n",
       "Bangladesh                                  |christmas     |15            |\n",
       "Barbados                                    |travel        |17            |\n",
       "Belarus                                     |travel        |2             |\n",
       "+--------------------------------------------+--------------+--------------+\n",
       "only showing top 20 rows\n",
       "\n",
       "</div>"
      ]
     },
     "metadata": {
      "application/vnd.databricks.v1+output": {
       "addedWidgets": {},
       "arguments": {},
       "data": "<div class=\"ansiout\">+--------------------------------------------+--------------+--------------+\n|country                                     |category      |category_count|\n+--------------------------------------------+--------------+--------------+\n|Afghanistan                                 |education     |27            |\n|Albania                                     |mens-fashion  |95            |\n|Algeria                                     |quotes        |53            |\n|American Samoa                              |education     |17            |\n|Andorra                                     |tattoos       |12            |\n|Angola                                      |diy-and-crafts|22            |\n|Anguilla                                    |home-decor    |18            |\n|Antarctica (the territory South of 60 deg S)|christmas     |12            |\n|Antigua and Barbuda                         |art           |18            |\n|Argentina                                   |tattoos       |24            |\n|Armenia                                     |diy-and-crafts|59            |\n|Aruba                                       |tattoos       |55            |\n|Australia                                   |mens-fashion  |19            |\n|Austria                                     |travel        |20            |\n|Azerbaijan                                  |event-planning|38            |\n|Bahamas                                     |art           |11            |\n|Bahrain                                     |finance       |6             |\n|Bangladesh                                  |christmas     |15            |\n|Barbados                                    |travel        |17            |\n|Belarus                                     |travel        |2             |\n+--------------------------------------------+--------------+--------------+\nonly showing top 20 rows\n\n</div>",
       "datasetInfos": [],
       "metadata": {},
       "removedWidgets": [],
       "type": "html"
      }
     },
     "output_type": "display_data"
    }
   ],
   "source": [
    "#############################################################################################################\n",
    "# TASK 4: Find the post popular category in each country\n",
    "#############################################################################################################\n",
    "df_pin_geo = df_geo.join(df_pin, on='ind')\n",
    "df_grouped = df_pin_geo.groupBy('country', 'category').count().withColumnRenamed('count', 'category_count')\n",
    "partitioned = Window.partitionBy('country').orderBy(F.col('category_count').desc())\n",
    "top_category_per_country = df_grouped.withColumn('row', F.row_number().over(partitioned)).filter(F.col('row') == 1).drop('row')\n",
    "top_category_per_country.orderBy('country').show(truncate=False)"
   ]
  },
  {
   "cell_type": "code",
   "execution_count": 0,
   "metadata": {
    "application/vnd.databricks.v1+cell": {
     "cellMetadata": {
      "byteLimit": 2048000,
      "rowLimit": 10000
     },
     "inputWidgets": {},
     "nuid": "4595afdf-f926-49aa-a151-f17d1b5ff278",
     "showTitle": false,
     "title": ""
    }
   },
   "outputs": [
    {
     "output_type": "display_data",
     "data": {
      "text/html": [
       "<style scoped>\n",
       "  .ansiout {\n",
       "    display: block;\n",
       "    unicode-bidi: embed;\n",
       "    white-space: pre-wrap;\n",
       "    word-wrap: break-word;\n",
       "    word-break: break-all;\n",
       "    font-family: \"Menlo\", \"Monaco\", \"Consolas\", \"Ubuntu Mono\", \"Source Code Pro\", monospace;\n",
       "    font-size: 13px;\n",
       "    color: #555;\n",
       "    margin-left: 4px;\n",
       "    line-height: 19px;\n",
       "  }\n",
       "</style>\n",
       "<div class=\"ansiout\">+---------+--------------+--------------+\n",
       "post_year|category      |category_count|\n",
       "+---------+--------------+--------------+\n",
       "2018     |diy-and-crafts|80            |\n",
       "2019     |diy-and-crafts|93            |\n",
       "2020     |mens-fashion  |119           |\n",
       "2021     |finance       |131           |\n",
       "2022     |beauty        |66            |\n",
       "+---------+--------------+--------------+\n",
       "\n",
       "</div>"
      ]
     },
     "metadata": {
      "application/vnd.databricks.v1+output": {
       "addedWidgets": {},
       "arguments": {},
       "data": "<div class=\"ansiout\">+---------+--------------+--------------+\n|post_year|category      |category_count|\n+---------+--------------+--------------+\n|2018     |diy-and-crafts|80            |\n|2019     |diy-and-crafts|93            |\n|2020     |mens-fashion  |119           |\n|2021     |finance       |131           |\n|2022     |beauty        |66            |\n+---------+--------------+--------------+\n\n</div>",
       "datasetInfos": [],
       "metadata": {},
       "removedWidgets": [],
       "type": "html"
      }
     },
     "output_type": "display_data"
    }
   ],
   "source": [
    "#############################################################################################################\n",
    "# TASK 5: Find the most popular category for each year, between 2018 and 2022.\n",
    "# Assumption: df_geo.timestamp contains the date/time when each pin was made.\n",
    "#############################################################################################################\n",
    "df_pin_geo = df_pin_geo.withColumn('post_year', F.year(df_pin_geo.timestamp))\n",
    "df_grouped = df_pin_geo.where((F.col('post_year') >= 2018) & (F.col('post_year')  <= 2022)).groupby('post_year', 'category').count()\n",
    "df_grouped = df_grouped.withColumnRenamed('count', 'category_count')\n",
    "partitioned = Window.partitionBy('post_year').orderBy(F.col('category_count').desc())\n",
    "top_category_per_year = df_grouped.withColumn('row', F.row_number().over(partitioned)).filter(F.col('row') == 1).drop('row')\n",
    "top_category_per_year.orderBy('post_year').show(truncate=False)"
   ]
  },
  {
   "cell_type": "code",
   "execution_count": 0,
   "metadata": {
    "application/vnd.databricks.v1+cell": {
     "cellMetadata": {
      "byteLimit": 2048000,
      "rowLimit": 10000
     },
     "inputWidgets": {},
     "nuid": "094ec928-14e8-4f26-8f50-065c236638fd",
     "showTitle": false,
     "title": ""
    }
   },
   "outputs": [
    {
     "output_type": "display_data",
     "data": {
      "text/html": [
       "<style scoped>\n",
       "  .ansiout {\n",
       "    display: block;\n",
       "    unicode-bidi: embed;\n",
       "    white-space: pre-wrap;\n",
       "    word-wrap: break-word;\n",
       "    word-break: break-all;\n",
       "    font-family: \"Menlo\", \"Monaco\", \"Consolas\", \"Ubuntu Mono\", \"Source Code Pro\", monospace;\n",
       "    font-size: 13px;\n",
       "    color: #555;\n",
       "    margin-left: 4px;\n",
       "    line-height: 19px;\n",
       "  }\n",
       "</style>\n",
       "<div class=\"ansiout\">+--------------------+--------------------+--------------+\n",
       "             country|         poster_name|follower_count|\n",
       "+--------------------+--------------------+--------------+\n",
       "         Afghanistan|                9GAG|       3000000|\n",
       "             Albania|   The Minds Journal|       5000000|\n",
       "             Algeria|   Apartment Therapy|       5000000|\n",
       "      American Samoa|         Mamas Uncut|       8000000|\n",
       "             Andorra|Teachers Pay Teac...|       1000000|\n",
       "              Angola|           Tastemade|       8000000|\n",
       "            Anguilla|Kristen | Lifesty...|         92000|\n",
       "Antarctica (the t...|          Refinery29|       1000000|\n",
       " Antigua and Barbuda|Country Living Ma...|       1000000|\n",
       "           Argentina|         Cheezburger|       2000000|\n",
       "             Armenia|Michelle {CraftyM...|        892000|\n",
       "               Aruba|         GQ Magazine|        874000|\n",
       "           Australia|        Mujer de 10 |       2000000|\n",
       "             Austria|Allwomenstalk - g...|        813000|\n",
       "          Azerbaijan|     Style Me Pretty|       6000000|\n",
       "             Bahamas|  Handmade Charlotte|        948000|\n",
       "             Bahrain|       Rainy Day Mum|        337000|\n",
       "          Bangladesh|Better Homes and ...|       4000000|\n",
       "            Barbados|The Creativity Ex...|        410000|\n",
       "             Belarus|Prudent Penny Pin...|        648000|\n",
       "+--------------------+--------------------+--------------+\n",
       "only showing top 20 rows\n",
       "\n",
       "+--------------+--------------+\n",
       "       country|follower_count|\n",
       "+--------------+--------------+\n",
       "American Samoa|       8000000|\n",
       "        Angola|       8000000|\n",
       "+--------------+--------------+\n",
       "\n",
       "</div>"
      ]
     },
     "metadata": {
      "application/vnd.databricks.v1+output": {
       "addedWidgets": {},
       "arguments": {},
       "data": "<div class=\"ansiout\">+--------------------+--------------------+--------------+\n|             country|         poster_name|follower_count|\n+--------------------+--------------------+--------------+\n|         Afghanistan|                9GAG|       3000000|\n|             Albania|   The Minds Journal|       5000000|\n|             Algeria|   Apartment Therapy|       5000000|\n|      American Samoa|         Mamas Uncut|       8000000|\n|             Andorra|Teachers Pay Teac...|       1000000|\n|              Angola|           Tastemade|       8000000|\n|            Anguilla|Kristen | Lifesty...|         92000|\n|Antarctica (the t...|          Refinery29|       1000000|\n| Antigua and Barbuda|Country Living Ma...|       1000000|\n|           Argentina|         Cheezburger|       2000000|\n|             Armenia|Michelle {CraftyM...|        892000|\n|               Aruba|         GQ Magazine|        874000|\n|           Australia|        Mujer de 10 |       2000000|\n|             Austria|Allwomenstalk - g...|        813000|\n|          Azerbaijan|     Style Me Pretty|       6000000|\n|             Bahamas|  Handmade Charlotte|        948000|\n|             Bahrain|       Rainy Day Mum|        337000|\n|          Bangladesh|Better Homes and ...|       4000000|\n|            Barbados|The Creativity Ex...|        410000|\n|             Belarus|Prudent Penny Pin...|        648000|\n+--------------------+--------------------+--------------+\nonly showing top 20 rows\n\n+--------------+--------------+\n|       country|follower_count|\n+--------------+--------------+\n|American Samoa|       8000000|\n|        Angola|       8000000|\n+--------------+--------------+\n\n</div>",
       "datasetInfos": [],
       "metadata": {},
       "removedWidgets": [],
       "type": "html"
      }
     },
     "output_type": "display_data"
    }
   ],
   "source": [
    "#############################################################################################################\n",
    "# TASK 6: Find the user with the most followers in each country, \n",
    "# and the country with the user with the most followers.\n",
    "#############################################################################################################\n",
    "\n",
    "# Start by finding the user with the most followers in each country\n",
    "# Each pin is associated with a follower_count, so take the latest follower_count for each user\n",
    "partitioned = Window.partitionBy('ind').orderBy(F.col('timestamp').desc())\n",
    "df_latest_pins = df_pin_geo.withColumn('row', F.row_number().over(partitioned)).filter(F.col('row') == 1).drop('row')\n",
    "\n",
    "# Now partition the data by country and select the record with the top follower_count for each partition\n",
    "partitioned = Window.partitionBy('country').orderBy(F.col('follower_count').desc())\n",
    "top_user_per_country = df_latest_pins.withColumn('row', F.row_number().over(partitioned)).filter(F.col('row') == 1)\n",
    "top_user_per_country = top_user_per_country.select('country', 'poster_name', 'follower_count')\n",
    "top_user_per_country.orderBy('country').show()\n",
    "\n",
    "# Now show the country with the top follower count\n",
    "max_follower_count = top_user_per_country.groupBy().max('follower_count').collect()[0].asDict()['max(follower_count)']\n",
    "top_country = top_user_per_country.where(F.col('follower_count') == max_follower_count).drop('poster_name')\n",
    "top_country.show()\n",
    "\n"
   ]
  }
 ],
 "metadata": {
  "application/vnd.databricks.v1+notebook": {
   "dashboards": [],
   "language": "python",
   "notebookMetadata": {
    "pythonIndentUnit": 4
   },
   "notebookName": "read_and_analyse",
   "widgets": {}
  }
 },
 "nbformat": 4,
 "nbformat_minor": 0
}
